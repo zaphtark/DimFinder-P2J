{
 "cells": [
  {
   "cell_type": "code",
   "execution_count": 1,
   "id": "967e1bcc",
   "metadata": {},
   "outputs": [
    {
     "name": "stdout",
     "output_type": "stream",
     "text": [
      "‎𐤀 CLTK version '1.1.6'.\n",
      "Pipeline for language 'Ancient Greek' (ISO: 'grc'): `GreekNormalizeProcess`, `GreekStanzaProcess`, `GreekEmbeddingsProcess`, `StopsProcess`.\n"
     ]
    }
   ],
   "source": [
    "import json\n",
    "import re\n",
    "\n",
    "from Utils import get_lines_from_json\n",
    "from Utils import clean_lines\n",
    "\n",
    "from Utils import get_character_gender\n",
    "\n",
    "from Utils import find_matches"
   ]
  },
  {
   "cell_type": "code",
   "execution_count": 2,
   "id": "966904a1",
   "metadata": {},
   "outputs": [],
   "source": [
    "with open('dimDict.json', 'r', encoding='utf-8') as f:\n",
    "    dim_dict = json.load(f)"
   ]
  },
  {
   "cell_type": "markdown",
   "id": "f7f6ce77",
   "metadata": {},
   "source": [
    "## Import and clean plays"
   ]
  },
  {
   "cell_type": "code",
   "execution_count": 3,
   "id": "ebaf2f52",
   "metadata": {},
   "outputs": [],
   "source": [
    "##Define play names\n",
    "play_names = ['Acharnians','Birds','Clouds','Ecclesiazusae','Frogs','Knights','Lysistrata','Peace','Plutus','Thesmophoriazusae','Wasps']"
   ]
  },
  {
   "cell_type": "code",
   "execution_count": 58,
   "id": "cb6eea43",
   "metadata": {},
   "outputs": [],
   "source": [
    "def import_plays_from_scratch():\n",
    "    \n",
    "    plays = dict()\n",
    "    clean_plays = dict()\n",
    "    \n",
    "    for play in play_names:\n",
    "        plays[play] = get_lines_from_json(play)\n",
    "        clean_plays[play] = clean_lines(plays[play], lemma=True, diacritics=False)\n",
    "        \n",
    "    json_object = json.dumps(clean_plays, indent=4)\n",
    " \n",
    "    with open(\"fullPlays.json\", \"w\") as outfile:\n",
    "        outfile.write(json_object)"
   ]
  },
  {
   "cell_type": "code",
   "execution_count": 12,
   "id": "4bebcc5b",
   "metadata": {},
   "outputs": [],
   "source": [
    "def import_plays_from_dump():\n",
    "    with open('fullPlays.json', 'r', encoding='utf-8') as f:\n",
    "        return json.load(f)"
   ]
  },
  {
   "cell_type": "code",
   "execution_count": 8,
   "id": "9ad63835",
   "metadata": {},
   "outputs": [],
   "source": [
    "def import_plays_from_xml():\n",
    "    plays = dict()\n",
    "    \n",
    "    for play in play_names:\n",
    "        plays[play] = get_lines_from_json(play)\n",
    "\n",
    "    return plays"
   ]
  },
  {
   "cell_type": "code",
   "execution_count": 9,
   "id": "00b58fc0",
   "metadata": {},
   "outputs": [],
   "source": [
    "plays = import_plays_from_xml()\n",
    "clean_plays = import_plays_from_dump()\n",
    "add_gender_to_plays()"
   ]
  },
  {
   "cell_type": "markdown",
   "id": "bcd7d195",
   "metadata": {},
   "source": [
    "## Add gender to lines"
   ]
  },
  {
   "cell_type": "code",
   "execution_count": 5,
   "id": "de77dc3c",
   "metadata": {},
   "outputs": [],
   "source": [
    "def add_gender_to_plays():\n",
    "    for play in play_names:\n",
    "        for line in clean_plays[play]:\n",
    "            gender = get_character_gender(play, line[\"name\"])\n",
    "            line[\"gender\"] = gender"
   ]
  },
  {
   "cell_type": "markdown",
   "id": "4233d72e",
   "metadata": {},
   "source": [
    "## Find diminutives"
   ]
  },
  {
   "cell_type": "code",
   "execution_count": 9,
   "id": "9c311a8f",
   "metadata": {},
   "outputs": [],
   "source": [
    "##Regex to determine all possible diminutives, with false positives \"(\\w*(ι|ί)ον|\\w*ισκι?(ο(ς|ν)|η|α))\"\n",
    "dim_regex_lemma = \"(\\w*(ι|ί)ον|\\w*ισκι?(ο(ς|ν)|η))\"\n",
    "dim_regex_no_lemma = \"(\\w*(ι|ί)(ον|ου|ῳ|α|ων|οις)|\\w*ισκ(ο(ς|ν)|η))\""
   ]
  },
  {
   "cell_type": "code",
   "execution_count": 35,
   "id": "eb67dd61",
   "metadata": {},
   "outputs": [],
   "source": [
    "play_results = dict()\n",
    "for play in play_names:\n",
    "    play_results[play] = find_matches(dim_regex_lemma,clean_plays[play])\n",
    "    text = play + \" \"+ str(get_play_gender_ratio(play)) + \"\\n\\n\"\n",
    "    \n",
    "    text += 'Lemme, Certitude, ID de ligne, genre'\n",
    "    text += '\\n'\n",
    "    \n",
    "    for line in play_results[play]:\n",
    "        certainty = get_certainty(line[\"matches\"].group(0))\n",
    "        text += line[\"matches\"].group(0) + ', '\n",
    "        text += str(certainty) + ', '\n",
    "        text += str(line['line']['id']) + ', '\n",
    "        text += line[\"line\"][\"gender\"]\n",
    "        text += '\\n'\n",
    "    \n",
    "    with open('results/'+play+'.txt', 'w', encoding=\"utf-8\") as f:\n",
    "        f.write(text)"
   ]
  },
  {
   "cell_type": "markdown",
   "id": "078c1340",
   "metadata": {},
   "source": [
    "## Get diminutive certainty"
   ]
  },
  {
   "cell_type": "code",
   "execution_count": 10,
   "id": "58e8802e",
   "metadata": {},
   "outputs": [],
   "source": [
    "##Identify possible false positives\n",
    "##Uncertainty factors: vowel before -ιον (for diphtong), -τήριον ending\n",
    "possible_exception_regex = \"(\\w*(α|ο|ε|τηρ)ιον)\"\n",
    "\n",
    "##Try to identify true positives\n",
    "##Possible true positive factors: -διον, -λιον, -φιον\n",
    "possible_dim_regex = \"(\\w*(δ|λ|φ)ιον)\"\n",
    "\n",
    "##Certainty factors: has suffix in list compiled from Chantraine/Monteil/Petersen OR has -ισκ-\n",
    "certain_dim_regex = \"(\\w*(ιδ|υλ(λ?)|α(κ|σ|φ|ρ))ιον|\\w*ισκ\\w*|\\w*ισκι?(ο(ς|ν)|η|α))\""
   ]
  },
  {
   "cell_type": "code",
   "execution_count": 11,
   "id": "98c467a3",
   "metadata": {},
   "outputs": [],
   "source": [
    "def get_certainty(word):\n",
    "    if word in dim_dict['confirmed']:\n",
    "        return \"Diminutif confirmé\"\n",
    "    \n",
    "    if word in dim_dict['exceptions']:\n",
    "        return \"Faux positif confirmé\"\n",
    "    \n",
    "    certainty = \"???\"\n",
    "    \n",
    "    if re.match(possible_dim_regex, word):\n",
    "        certainty = \"Diminutif possible\"\n",
    "    if re.match(certain_dim_regex, word):\n",
    "        certainty = \"Diminutif confirmé\"\n",
    "        \n",
    "    if re.match(possible_exception_regex, word):\n",
    "        certainty = \"Faux positif possible\"\n",
    "\n",
    "    return certainty"
   ]
  },
  {
   "cell_type": "code",
   "execution_count": 32,
   "id": "8d7d4b4d",
   "metadata": {},
   "outputs": [],
   "source": [
    "def get_play_gender_ratio(play):\n",
    "    length = len(clean_plays[play])\n",
    "    men = 0\n",
    "    women = 0\n",
    "    \n",
    "    for line in clean_plays[play]:\n",
    "        if line[\"gender\"] == \"man\":\n",
    "            men += 1\n",
    "        elif line[\"gender\"] == \"woman\":\n",
    "            women +=1\n",
    "    \n",
    "    men = round(men/length*100, 2)\n",
    "    women = round(women/length*100, 2)\n",
    "    \n",
    "    return({\"men\":men, \"women\":women})"
   ]
  },
  {
   "cell_type": "code",
   "execution_count": 15,
   "id": "4d3a8421",
   "metadata": {},
   "outputs": [],
   "source": [
    "def get_play_line(play, lineID):\n",
    "    for line in plays[play]:\n",
    "        if line[\"id\"] == lineID: return line"
   ]
  },
  {
   "cell_type": "code",
   "execution_count": 37,
   "id": "e4e93f22",
   "metadata": {},
   "outputs": [
    {
     "data": {
      "text/plain": [
       "{'id': 97,\n",
       " 'name': 'Χορός',\n",
       " 'text': ['ὅρα δʼ ὅπως ὠθήσομεν τούσδε τοὺς ἐξ ἄστεως',\n",
       "  'ἥκοντας, ὅσοι πρὸ τοῦ',\n",
       "  'μέν, ἡνίκʼ ἔδει λαβεῖν ',\n",
       "  'ἐλθόντʼ ὀβολὸν μόνον,',\n",
       "  'καθῆντο λαλοῦντες ',\n",
       "  'ἐν τοῖς στεφανώμασιν,',\n",
       "  'νυνὶ δʼ ἐνοχλοῦσʼ ἄγαν.',\n",
       "  'ἀλλʼ οὐχί, Μυρωνίδης',\n",
       "  'ὅτʼ ἦρχεν ὁ γεννάδας,',\n",
       "  'οὐδεὶς ἂν ἐτόλμα',\n",
       "  'τὰ τῆς πόλεως διοικεῖν',\n",
       "  'ἀργύριον φέρων·',\n",
       "  'ἀλλʼ ἧκεν ἕκαστος',\n",
       "  'ἐν ἀσκιδίῳ φέρων',\n",
       "  'πιεῖν ἅμα τʼ ἄρτον αὑτῷ',\n",
       "  'καὶ δύο κρομμύω',\n",
       "  'καὶ τρεῖς ἂν ἐλάας.',\n",
       "  'νυνὶ δὲ τριώβολον',\n",
       "  'ζητοῦσι λαβεῖν, ὅταν',\n",
       "  'πράττωσί τι κοινὸν ὥσ-',\n",
       "  'περ πηλοφοροῦντες.']}"
      ]
     },
     "execution_count": 37,
     "metadata": {},
     "output_type": "execute_result"
    }
   ],
   "source": [
    "get_play_line(\"Ecclesiazusae\",97)"
   ]
  }
 ],
 "metadata": {
  "kernelspec": {
   "display_name": "Python 3",
   "language": "python",
   "name": "python3"
  },
  "language_info": {
   "codemirror_mode": {
    "name": "ipython",
    "version": 3
   },
   "file_extension": ".py",
   "mimetype": "text/x-python",
   "name": "python",
   "nbconvert_exporter": "python",
   "pygments_lexer": "ipython3",
   "version": "3.10.8"
  }
 },
 "nbformat": 4,
 "nbformat_minor": 5
}
