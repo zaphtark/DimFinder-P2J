{
 "cells": [
  {
   "cell_type": "markdown",
   "id": "81b167b9",
   "metadata": {},
   "source": [
    "## Import util functions"
   ]
  },
  {
   "cell_type": "code",
   "execution_count": 19,
   "id": "d16a8919",
   "metadata": {},
   "outputs": [
    {
     "ename": "ModuleNotFoundError",
     "evalue": "No module named 'Utils'",
     "output_type": "error",
     "traceback": [
      "\u001b[1;31m---------------------------------------------------------------------------\u001b[0m",
      "\u001b[1;31mModuleNotFoundError\u001b[0m                       Traceback (most recent call last)",
      "Cell \u001b[1;32mIn [19], line 1\u001b[0m\n\u001b[1;32m----> 1\u001b[0m \u001b[38;5;28;01mfrom\u001b[39;00m \u001b[38;5;21;01mUtils\u001b[39;00m \u001b[38;5;28;01mimport\u001b[39;00m get_lines_from_json\n",
      "\u001b[1;31mModuleNotFoundError\u001b[0m: No module named 'Utils'"
     ]
    }
   ],
   "source": [
    "from Utils import get_lines_from_json"
   ]
  },
  {
   "cell_type": "markdown",
   "id": "5a00228f",
   "metadata": {},
   "source": [
    "## Import and clean plays"
   ]
  },
  {
   "cell_type": "code",
   "execution_count": 2,
   "id": "d4e88f46",
   "metadata": {},
   "outputs": [],
   "source": [
    "##Define play names\n",
    "play_names = ['Acharnians','Birds','Clouds','Ecclesiazusae','Frogs','Knights','Lysistrata','Peace','Plutus','Thesmophoriazusae','Wasps']"
   ]
  },
  {
   "cell_type": "code",
   "execution_count": null,
   "id": "57694fea",
   "metadata": {},
   "outputs": [],
   "source": [
    "plays = dict()\n",
    "clean_plays = dict()\n",
    "\n",
    "def import_plays():\n",
    "    for play in play_names:\n",
    "        plays[play] = get_lines_from_json(play)\n",
    "        clean_plays[play] = clean_lines(plays[play], lemma=True)"
   ]
  }
 ],
 "metadata": {
  "kernelspec": {
   "display_name": "Python 3",
   "language": "python",
   "name": "python3"
  },
  "language_info": {
   "codemirror_mode": {
    "name": "ipython",
    "version": 3
   },
   "file_extension": ".py",
   "mimetype": "text/x-python",
   "name": "python",
   "nbconvert_exporter": "python",
   "pygments_lexer": "ipython3",
   "version": "3.10.8"
  }
 },
 "nbformat": 4,
 "nbformat_minor": 5
}
