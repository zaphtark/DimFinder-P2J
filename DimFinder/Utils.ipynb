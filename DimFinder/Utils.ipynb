{
 "cells": [
  {
   "cell_type": "code",
   "execution_count": 131,
   "id": "ef3af531",
   "metadata": {},
   "outputs": [
    {
     "name": "stdout",
     "output_type": "stream",
     "text": [
      "‎𐤀 CLTK version '1.1.6'.\n",
      "Pipeline for language 'Ancient Greek' (ISO: 'grc'): `GreekNormalizeProcess`, `GreekStanzaProcess`, `GreekEmbeddingsProcess`, `StopsProcess`.\n"
     ]
    }
   ],
   "source": [
    "import json\n",
    "import copy\n",
    "import re\n",
    "\n",
    "from unicodedata import normalize\n",
    "\n",
    "from cltk import NLP\n",
    "nlp = NLP(\"grc\")"
   ]
  },
  {
   "cell_type": "code",
   "execution_count": 132,
   "id": "4a8caa9d",
   "metadata": {},
   "outputs": [],
   "source": [
    "with open('charDict.json', 'r', encoding='utf-8') as f:\n",
    "    char_dict = json.load(f)"
   ]
  },
  {
   "cell_type": "markdown",
   "id": "94e2fc69",
   "metadata": {},
   "source": [
    "## Load JSON File"
   ]
  },
  {
   "cell_type": "code",
   "execution_count": 113,
   "id": "61d01d08",
   "metadata": {},
   "outputs": [],
   "source": [
    "def read_jsonfile(play):\n",
    "    with open('data/'+play+'.json', 'r', encoding='utf-8') as f:\n",
    "        play_file = json.load(f)\n",
    "\n",
    "    return play_file"
   ]
  },
  {
   "cell_type": "markdown",
   "id": "a2a1e0b0",
   "metadata": {},
   "source": [
    "## Get all lines from json"
   ]
  },
  {
   "cell_type": "code",
   "execution_count": 112,
   "id": "1592abbf",
   "metadata": {},
   "outputs": [],
   "source": [
    "def get_lines_from_json(play):\n",
    "    json = read_jsonfile(play)\n",
    "    all_lines = list()\n",
    "    for said in json['content']:\n",
    "        line = {'id':said['id'],'name':said['name'], 'text':[]}\n",
    "        for verse in said['text']:\n",
    "            line['text'].append(verse['text'])\n",
    "        all_lines.append(line)\n",
    "    return all_lines"
   ]
  },
  {
   "cell_type": "markdown",
   "id": "6570fc4e",
   "metadata": {},
   "source": [
    "## Clean (and lemmatize?) text"
   ]
  },
  {
   "cell_type": "code",
   "execution_count": 40,
   "id": "65e7d1e6",
   "metadata": {},
   "outputs": [],
   "source": [
    "def clean_texts(list_of_texts, lemma, detailed, diacritics):\n",
    "    purge_char = [\",\", \".\", \";\", \":\", \"—\", \"†\"]\n",
    "    if lemma is False: \n",
    "        purge_char.append(\"'\")\n",
    "\n",
    "    clean_texts = list()\n",
    "    for text in list_of_texts:\n",
    "        ##Basic preprocessing\n",
    "        clean_text = text[:]\n",
    "        clean_text = clean_text.replace(\"\\n\", \" \")\n",
    "        for char in purge_char:\n",
    "            clean_text = clean_text.replace(char, \"\")\n",
    "        \n",
    "        ##Lemmatization\n",
    "        if lemma is True:\n",
    "            cltk_doc = nlp.analyze(clean_text)\n",
    "            clean_text = \" \".join([word.lemma for word in cltk_doc.words]) \n",
    "        \n",
    "        #Give every info about word\n",
    "        if detailed is True:\n",
    "            cltk_doc = nlp.analyze(clean_text)\n",
    "            clean_text = [clean_word(word) for word in cltk_doc.words] \n",
    "        \n",
    "        ##Diacritics removal\n",
    "        if diacritics is False and detailed is False:\n",
    "            clean_text = normalize(\"NFKD\", clean_text).translate({ord(c): None for c in \"̓̔́̀͂̈ͅ\"})\n",
    "            \n",
    "        clean_texts.append(clean_text)\n",
    "    return clean_texts"
   ]
  },
  {
   "cell_type": "code",
   "execution_count": 127,
   "id": "b280f272",
   "metadata": {
    "scrolled": true
   },
   "outputs": [],
   "source": [
    "def clean_lines(list_of_lines, lemma=False, detailed=False, diacritics=True):\n",
    "    clean_lines = list()\n",
    "    for line in list_of_lines:\n",
    "        clean_text = clean_texts(line['text'], lemma, detailed, diacritics)\n",
    "        clean_line = copy.deepcopy(line)\n",
    "        clean_line['text'] = clean_text\n",
    "        clean_lines.append(clean_line)\n",
    "    return clean_lines"
   ]
  },
  {
   "cell_type": "code",
   "execution_count": 109,
   "id": "e496a45e",
   "metadata": {},
   "outputs": [],
   "source": [
    "def clean_word(word):\n",
    "    clean_word = dict()\n",
    "    word_object = vars(word)\n",
    "    for key in word_object.keys():\n",
    "        if word_object[key] is not None:\n",
    "            clean_word[key] = word_object[key]\n",
    "    return clean_word"
   ]
  },
  {
   "cell_type": "markdown",
   "id": "b805518a",
   "metadata": {},
   "source": [
    "## Find diminutives with Regex"
   ]
  },
  {
   "cell_type": "code",
   "execution_count": 122,
   "id": "ff8355fd",
   "metadata": {
    "scrolled": false
   },
   "outputs": [],
   "source": [
    "def find_matches(regex, lines):\n",
    "    matches = list()\n",
    "    for line in lines:\n",
    "        for text in line['text']:\n",
    "            match = re.search(regex, text)\n",
    "            if match is not None:\n",
    "                matches.append({'matches':match, 'line':line})\n",
    "    return matches      "
   ]
  },
  {
   "cell_type": "markdown",
   "id": "d5d0a1a4",
   "metadata": {},
   "source": [
    "## Get lines by character"
   ]
  },
  {
   "cell_type": "code",
   "execution_count": 106,
   "id": "370bbc29",
   "metadata": {
    "scrolled": true
   },
   "outputs": [],
   "source": [
    "def get_lines_by_character(character, play):\n",
    "    char_lines = list()\n",
    "    for line in play:\n",
    "        if line[\"name\"] == character:\n",
    "            char_lines.append(line)\n",
    "    return char_lines"
   ]
  },
  {
   "cell_type": "code",
   "execution_count": 105,
   "id": "bc1819d7",
   "metadata": {},
   "outputs": [],
   "source": [
    "def get_lines_all_characters(play):\n",
    "    all_char_lines = dict()\n",
    "    for line in play:\n",
    "        if line['name'] in all_char_lines.keys():\n",
    "            all_char_lines[line['name']].append(line)\n",
    "        else:\n",
    "            all_char_lines[line['name']] = [line]\n",
    "    return all_char_lines"
   ]
  },
  {
   "cell_type": "markdown",
   "id": "aef0eb54",
   "metadata": {},
   "source": [
    "## Generate character and gender list"
   ]
  },
  {
   "cell_type": "code",
   "execution_count": 104,
   "id": "683a1e4a",
   "metadata": {},
   "outputs": [],
   "source": [
    "def get_play_characters(play):\n",
    "    text_by_char = get_lines_all_characters(play)\n",
    "    return text_by_char.keys()"
   ]
  },
  {
   "cell_type": "code",
   "execution_count": 121,
   "id": "ad94d2ff",
   "metadata": {},
   "outputs": [],
   "source": [
    "def get_play_characters_gender(play):\n",
    "    characters = get_play_characters(play)\n",
    "    men, women, unsure = list(), list(), list()\n",
    "    for character in characters:\n",
    "        try:\n",
    "            gender = str(nlp.analyze(character).words[0].features[\"Gender\"])\n",
    "        except: \n",
    "            print(\"Problem with \" + character)\n",
    "        else:\n",
    "            if gender == '[masculine]':\n",
    "                men.append(character)\n",
    "            elif gender == '[feminine]':\n",
    "                women.append(character)\n",
    "            else:\n",
    "                unsure.append(character)\n",
    "    return {'men':men,'women':women,'unsure':unsure}"
   ]
  },
  {
   "cell_type": "markdown",
   "id": "681bffdf",
   "metadata": {},
   "source": [
    "## Get lines by gender"
   ]
  },
  {
   "cell_type": "code",
   "execution_count": 124,
   "id": "5d290c8f",
   "metadata": {},
   "outputs": [],
   "source": [
    "def get_lines_by_gender(play):\n",
    "    all_lines = {'men':[],'women':[]}\n",
    "    for line in play:\n",
    "        if get_character_gender(play,line['name']) == 'woman':\n",
    "            all_lines['women'].append(line)\n",
    "        \n",
    "        if get_character_gender(play,line['name']) == 'man':\n",
    "            all_lines['men'].append(line)\n",
    "    return all_lines"
   ]
  },
  {
   "cell_type": "markdown",
   "id": "e1fcfa3d",
   "metadata": {},
   "source": [
    "## Get a character's gender"
   ]
  },
  {
   "cell_type": "code",
   "execution_count": 126,
   "id": "f3ffb733",
   "metadata": {},
   "outputs": [],
   "source": [
    "def get_character_gender(play,character):\n",
    "    if character in char_dict[play][\"men\"]:\n",
    "        return \"man\"\n",
    "    if character in char_dict[play][\"women\"]:\n",
    "        return \"woman\"\n",
    "    else:\n",
    "        return \"unsure\""
   ]
  }
 ],
 "metadata": {
  "kernelspec": {
   "display_name": "Python 3",
   "language": "python",
   "name": "python3"
  },
  "language_info": {
   "codemirror_mode": {
    "name": "ipython",
    "version": 3
   },
   "file_extension": ".py",
   "mimetype": "text/x-python",
   "name": "python",
   "nbconvert_exporter": "python",
   "pygments_lexer": "ipython3",
   "version": "3.10.8"
  }
 },
 "nbformat": 4,
 "nbformat_minor": 5
}
